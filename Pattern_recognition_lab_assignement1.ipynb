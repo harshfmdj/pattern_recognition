{
  "nbformat": 4,
  "nbformat_minor": 0,
  "metadata": {
    "colab": {
      "name": "Pattern_recognition_lab_assignement1.ipynb",
      "provenance": [],
      "collapsed_sections": [],
      "toc_visible": true
    },
    "kernelspec": {
      "name": "python3",
      "display_name": "Python 3"
    }
  },
  "cells": [
    {
      "cell_type": "markdown",
      "metadata": {
        "id": "yhnymgegi3eF"
      },
      "source": [
        "# Importing library and checking dataset"
      ]
    },
    {
      "cell_type": "code",
      "metadata": {
        "colab": {
          "base_uri": "https://localhost:8080/"
        },
        "id": "b0OiIIlfvFFQ",
        "outputId": "42444c59-1e32-426e-bf85-a7849201cdd8"
      },
      "source": [
        "# ID-2017KUCP1043\r\n",
        "#HARSH SONI\r\n",
        "\r\n",
        "import matplotlib.pyplot as plt \r\n",
        "%matplotlib inline\r\n",
        "import random\r\n",
        "\r\n",
        "import numpy as np \r\n",
        "import pandas as pd \r\n",
        "\r\n",
        "import os\r\n",
        "import re\r\n",
        "from google.colab import drive\r\n",
        "\r\n",
        "drive.mount('/content/gdrive')"
      ],
      "execution_count": 17,
      "outputs": [
        {
          "output_type": "stream",
          "text": [
            "Drive already mounted at /content/gdrive; to attempt to forcibly remount, call drive.mount(\"/content/gdrive\", force_remount=True).\n"
          ],
          "name": "stdout"
        }
      ]
    },
    {
      "cell_type": "code",
      "metadata": {
        "id": "M17DS-aqwC6e"
      },
      "source": [
        "train=pd.read_csv('/content/gdrive/My Drive/pattern/assignment1/train.csv')"
      ],
      "execution_count": 2,
      "outputs": []
    },
    {
      "cell_type": "code",
      "metadata": {
        "id": "dCV2_-QN4NEn",
        "colab": {
          "base_uri": "https://localhost:8080/",
          "height": 990
        },
        "outputId": "3cba0117-f6c6-4fc5-be2f-5175c7e5e002"
      },
      "source": [
        "print(train.shape)\r\n",
        "train\r\n"
      ],
      "execution_count": 4,
      "outputs": [
        {
          "output_type": "stream",
          "text": [
            "(99999, 16)\n"
          ],
          "name": "stdout"
        },
        {
          "output_type": "execute_result",
          "data": {
            "text/html": [
              "<div>\n",
              "<style scoped>\n",
              "    .dataframe tbody tr th:only-of-type {\n",
              "        vertical-align: middle;\n",
              "    }\n",
              "\n",
              "    .dataframe tbody tr th {\n",
              "        vertical-align: top;\n",
              "    }\n",
              "\n",
              "    .dataframe thead th {\n",
              "        text-align: right;\n",
              "    }\n",
              "</style>\n",
              "<table border=\"1\" class=\"dataframe\">\n",
              "  <thead>\n",
              "    <tr style=\"text-align: right;\">\n",
              "      <th></th>\n",
              "      <th>{02A6460F-C1F3-4977-B7ED-2A77C79302AE}</th>\n",
              "      <th>52000</th>\n",
              "      <th>2001-12-07 00:00</th>\n",
              "      <th>DE6 1BL</th>\n",
              "      <th>S</th>\n",
              "      <th>N</th>\n",
              "      <th>F</th>\n",
              "      <th>1A</th>\n",
              "      <th>Unnamed: 8</th>\n",
              "      <th>OLD HILL</th>\n",
              "      <th>ASHBOURNE</th>\n",
              "      <th>ASHBOURNE.1</th>\n",
              "      <th>DERBYSHIRE DALES</th>\n",
              "      <th>DERBYSHIRE</th>\n",
              "      <th>A</th>\n",
              "      <th>A.1</th>\n",
              "    </tr>\n",
              "  </thead>\n",
              "  <tbody>\n",
              "    <tr>\n",
              "      <th>0</th>\n",
              "      <td>{5EEB0C41-09F5-4BDF-A73E-A4E72E20BFC4}</td>\n",
              "      <td>57000</td>\n",
              "      <td>2003-09-12 00:00</td>\n",
              "      <td>B36 0RA</td>\n",
              "      <td>T</td>\n",
              "      <td>N</td>\n",
              "      <td>F</td>\n",
              "      <td>44</td>\n",
              "      <td>NaN</td>\n",
              "      <td>GREENFINCH ROAD</td>\n",
              "      <td>BIRMINGHAM</td>\n",
              "      <td>BIRMINGHAM</td>\n",
              "      <td>SOLIHULL</td>\n",
              "      <td>WEST MIDLANDS</td>\n",
              "      <td>A</td>\n",
              "      <td>A</td>\n",
              "    </tr>\n",
              "    <tr>\n",
              "      <th>1</th>\n",
              "      <td>{09975216-3588-418C-B6C5-A5704B0E77DE}</td>\n",
              "      <td>69500</td>\n",
              "      <td>2005-12-21 00:00</td>\n",
              "      <td>OL16 2XR</td>\n",
              "      <td>T</td>\n",
              "      <td>N</td>\n",
              "      <td>L</td>\n",
              "      <td>143</td>\n",
              "      <td>NaN</td>\n",
              "      <td>BELFIELD ROAD</td>\n",
              "      <td>ROCHDALE</td>\n",
              "      <td>ROCHDALE</td>\n",
              "      <td>ROCHDALE</td>\n",
              "      <td>GREATER MANCHESTER</td>\n",
              "      <td>A</td>\n",
              "      <td>A</td>\n",
              "    </tr>\n",
              "    <tr>\n",
              "      <th>2</th>\n",
              "      <td>{44CB83B9-0EC3-48D4-9B8D-B34D13D3C09E}</td>\n",
              "      <td>84000</td>\n",
              "      <td>2001-01-31 00:00</td>\n",
              "      <td>SN1 4LJ</td>\n",
              "      <td>T</td>\n",
              "      <td>N</td>\n",
              "      <td>F</td>\n",
              "      <td>34</td>\n",
              "      <td>NaN</td>\n",
              "      <td>KINGSHILL ROAD</td>\n",
              "      <td>SWINDON</td>\n",
              "      <td>SWINDON</td>\n",
              "      <td>SWINDON</td>\n",
              "      <td>SWINDON</td>\n",
              "      <td>A</td>\n",
              "      <td>A</td>\n",
              "    </tr>\n",
              "    <tr>\n",
              "      <th>3</th>\n",
              "      <td>{74828706-CBFC-406D-B7B6-394B5863E22E}</td>\n",
              "      <td>110000</td>\n",
              "      <td>1998-02-27 00:00</td>\n",
              "      <td>OX3 8AJ</td>\n",
              "      <td>S</td>\n",
              "      <td>N</td>\n",
              "      <td>F</td>\n",
              "      <td>62</td>\n",
              "      <td>NaN</td>\n",
              "      <td>WHARTON ROAD</td>\n",
              "      <td>HEADINGTON</td>\n",
              "      <td>OXFORD</td>\n",
              "      <td>OXFORD</td>\n",
              "      <td>OXFORDSHIRE</td>\n",
              "      <td>A</td>\n",
              "      <td>A</td>\n",
              "    </tr>\n",
              "    <tr>\n",
              "      <th>4</th>\n",
              "      <td>{38531A9B-1D6A-466B-93AC-D91243B9A331}</td>\n",
              "      <td>94500</td>\n",
              "      <td>1995-08-04 00:00</td>\n",
              "      <td>GL52 3NE</td>\n",
              "      <td>T</td>\n",
              "      <td>N</td>\n",
              "      <td>F</td>\n",
              "      <td>THE STABLES</td>\n",
              "      <td>2</td>\n",
              "      <td>MILL LANE</td>\n",
              "      <td>PRESTBURY</td>\n",
              "      <td>CHELTENHAM</td>\n",
              "      <td>CHELTENHAM</td>\n",
              "      <td>GLOUCESTERSHIRE</td>\n",
              "      <td>A</td>\n",
              "      <td>A</td>\n",
              "    </tr>\n",
              "    <tr>\n",
              "      <th>...</th>\n",
              "      <td>...</td>\n",
              "      <td>...</td>\n",
              "      <td>...</td>\n",
              "      <td>...</td>\n",
              "      <td>...</td>\n",
              "      <td>...</td>\n",
              "      <td>...</td>\n",
              "      <td>...</td>\n",
              "      <td>...</td>\n",
              "      <td>...</td>\n",
              "      <td>...</td>\n",
              "      <td>...</td>\n",
              "      <td>...</td>\n",
              "      <td>...</td>\n",
              "      <td>...</td>\n",
              "      <td>...</td>\n",
              "    </tr>\n",
              "    <tr>\n",
              "      <th>99994</th>\n",
              "      <td>{E9AE12EB-4BAE-4BAA-9B61-7424BCEE896F}</td>\n",
              "      <td>158000</td>\n",
              "      <td>2008-01-14 00:00</td>\n",
              "      <td>CH4 8UP</td>\n",
              "      <td>S</td>\n",
              "      <td>N</td>\n",
              "      <td>F</td>\n",
              "      <td>11</td>\n",
              "      <td>NaN</td>\n",
              "      <td>ALED WAY</td>\n",
              "      <td>SALTNEY</td>\n",
              "      <td>CHESTER</td>\n",
              "      <td>FLINTSHIRE</td>\n",
              "      <td>FLINTSHIRE</td>\n",
              "      <td>A</td>\n",
              "      <td>A</td>\n",
              "    </tr>\n",
              "    <tr>\n",
              "      <th>99995</th>\n",
              "      <td>{CF696990-E514-4583-AAB9-9A09F8424FE2}</td>\n",
              "      <td>71000</td>\n",
              "      <td>2001-11-12 00:00</td>\n",
              "      <td>LL18 6AU</td>\n",
              "      <td>D</td>\n",
              "      <td>N</td>\n",
              "      <td>F</td>\n",
              "      <td>SITKA</td>\n",
              "      <td>NaN</td>\n",
              "      <td>LOWER FOEL ROAD</td>\n",
              "      <td>DYSERTH</td>\n",
              "      <td>RHYL</td>\n",
              "      <td>DENBIGHSHIRE</td>\n",
              "      <td>DENBIGHSHIRE</td>\n",
              "      <td>A</td>\n",
              "      <td>A</td>\n",
              "    </tr>\n",
              "    <tr>\n",
              "      <th>99996</th>\n",
              "      <td>{52518EEF-C120-46F7-8B04-C1A4785E06FD}</td>\n",
              "      <td>283500</td>\n",
              "      <td>2000-01-25 00:00</td>\n",
              "      <td>EN7 5JU</td>\n",
              "      <td>D</td>\n",
              "      <td>N</td>\n",
              "      <td>F</td>\n",
              "      <td>20</td>\n",
              "      <td>NaN</td>\n",
              "      <td>BROADFIELDS</td>\n",
              "      <td>GOFFS OAK</td>\n",
              "      <td>WALTHAM CROSS</td>\n",
              "      <td>BROXBOURNE</td>\n",
              "      <td>HERTFORDSHIRE</td>\n",
              "      <td>A</td>\n",
              "      <td>A</td>\n",
              "    </tr>\n",
              "    <tr>\n",
              "      <th>99997</th>\n",
              "      <td>{154A9EA0-B6EA-4FD7-9C8A-F984063DA5A6}</td>\n",
              "      <td>37000</td>\n",
              "      <td>1998-04-09 00:00</td>\n",
              "      <td>CV3 1FU</td>\n",
              "      <td>T</td>\n",
              "      <td>N</td>\n",
              "      <td>F</td>\n",
              "      <td>31</td>\n",
              "      <td>NaN</td>\n",
              "      <td>LODGE ROAD</td>\n",
              "      <td>NaN</td>\n",
              "      <td>COVENTRY</td>\n",
              "      <td>COVENTRY</td>\n",
              "      <td>WEST MIDLANDS</td>\n",
              "      <td>A</td>\n",
              "      <td>A</td>\n",
              "    </tr>\n",
              "    <tr>\n",
              "      <th>99998</th>\n",
              "      <td>{66A071E0-9E4A-4C76-AE1A-34DE6C281D23}</td>\n",
              "      <td>155000</td>\n",
              "      <td>2014-10-10 00:00</td>\n",
              "      <td>SE25 5EG</td>\n",
              "      <td>F</td>\n",
              "      <td>N</td>\n",
              "      <td>L</td>\n",
              "      <td>REBECCA COURT, 40</td>\n",
              "      <td>FLAT 2</td>\n",
              "      <td>DAGNALL PARK</td>\n",
              "      <td>NaN</td>\n",
              "      <td>LONDON</td>\n",
              "      <td>CROYDON</td>\n",
              "      <td>GREATER LONDON</td>\n",
              "      <td>A</td>\n",
              "      <td>A</td>\n",
              "    </tr>\n",
              "  </tbody>\n",
              "</table>\n",
              "<p>99999 rows × 16 columns</p>\n",
              "</div>"
            ],
            "text/plain": [
              "       {02A6460F-C1F3-4977-B7ED-2A77C79302AE}   52000  ...  A A.1\n",
              "0      {5EEB0C41-09F5-4BDF-A73E-A4E72E20BFC4}   57000  ...  A   A\n",
              "1      {09975216-3588-418C-B6C5-A5704B0E77DE}   69500  ...  A   A\n",
              "2      {44CB83B9-0EC3-48D4-9B8D-B34D13D3C09E}   84000  ...  A   A\n",
              "3      {74828706-CBFC-406D-B7B6-394B5863E22E}  110000  ...  A   A\n",
              "4      {38531A9B-1D6A-466B-93AC-D91243B9A331}   94500  ...  A   A\n",
              "...                                       ...     ...  ... ..  ..\n",
              "99994  {E9AE12EB-4BAE-4BAA-9B61-7424BCEE896F}  158000  ...  A   A\n",
              "99995  {CF696990-E514-4583-AAB9-9A09F8424FE2}   71000  ...  A   A\n",
              "99996  {52518EEF-C120-46F7-8B04-C1A4785E06FD}  283500  ...  A   A\n",
              "99997  {154A9EA0-B6EA-4FD7-9C8A-F984063DA5A6}   37000  ...  A   A\n",
              "99998  {66A071E0-9E4A-4C76-AE1A-34DE6C281D23}  155000  ...  A   A\n",
              "\n",
              "[99999 rows x 16 columns]"
            ]
          },
          "metadata": {
            "tags": []
          },
          "execution_count": 4
        }
      ]
    },
    {
      "cell_type": "markdown",
      "metadata": {
        "id": "rvbfJNkVi2GP"
      },
      "source": [
        "# price analysis and histogram plot"
      ]
    },
    {
      "cell_type": "code",
      "metadata": {
        "colab": {
          "base_uri": "https://localhost:8080/"
        },
        "id": "ePUuJt_1nNps",
        "outputId": "fd551a8b-79b5-4213-d685-3430604cd66f"
      },
      "source": [
        "#standard statistics terms for column price\r\n",
        "print(\"Mean of the price dataset\",train['52000'].mean())\r\n",
        "print(\"Median of the price dataset\",train['52000'].median())\r\n",
        "print(\"Mode of the price dataset\",train['52000'].mode())\r\n",
        "print(\"Standard deviation of the price dataset\",train['52000'].std())"
      ],
      "execution_count": 5,
      "outputs": [
        {
          "output_type": "stream",
          "text": [
            "Mean of the price dataset 174387.9776197762\n",
            "Median of the price dataset 129000.0\n",
            "Mode of the price dataset 0    250000\n",
            "dtype: int64\n",
            "Standard deviation of the price dataset 351464.9420183735\n"
          ],
          "name": "stdout"
        }
      ]
    },
    {
      "cell_type": "code",
      "metadata": {
        "colab": {
          "base_uri": "https://localhost:8080/",
          "height": 295
        },
        "id": "2an469n0vbzY",
        "outputId": "3baa3f20-4d64-424e-fd34-e1ac62bb359a"
      },
      "source": [
        "#histogram plot for price \r\n",
        "plt.hist(train['52000'],bins=20,log=True)\r\n",
        "plt.xlabel('House Prices')\r\n",
        "plt.ylabel('No. of Houses')\r\n",
        "plt.title('Histogram of price distribution')\r\n",
        "plt.show()"
      ],
      "execution_count": 6,
      "outputs": [
        {
          "output_type": "display_data",
          "data": {
            "image/png": "[encoded data removed]",
            "text/plain": [
              "<Figure size 432x288 with 1 Axes>"
            ]
          },
          "metadata": {
            "tags": [],
            "needs_background": "light"
          }
        }
      ]
    },
    {
      "cell_type": "markdown",
      "metadata": {
        "id": "lGi-cExRDxin"
      },
      "source": [
        "# Random Numbers plot and "
      ]
    },
    {
      "cell_type": "code",
      "metadata": {
        "colab": {
          "base_uri": "https://localhost:8080/",
          "height": 265
        },
        "id": "59uGQToQ3bhA",
        "outputId": "68de430e-6692-436e-89e5-64feb8bbfff5"
      },
      "source": [
        "def rand_num_hist():\r\n",
        "    xs = [random.randint(1, 100) for _ in range(1000)]\r\n",
        "    plt.hist(xs)\r\n",
        "    plt.show()\r\n",
        "rand_num_hist() #the histogram for random number is almost uniform for all the numbers \r\n"
      ],
      "execution_count": 7,
      "outputs": [
        {
          "output_type": "display_data",
          "data": {
            "image/png": "[encoded data removed]",
            "text/plain": [
              "<Figure size 432x288 with 1 Axes>"
            ]
          },
          "metadata": {
            "tags": [],
            "needs_background": "light"
          }
        }
      ]
    },
    {
      "cell_type": "code",
      "metadata": {
        "colab": {
          "base_uri": "https://localhost:8080/",
          "height": 265
        },
        "id": "AfrOxU2FDZXW",
        "outputId": "b8ac92d9-d8ca-4131-f06f-085aba39ad90"
      },
      "source": [
        "#gausian distribution\r\n",
        "mu, sigma = 0, 0.1 # mean and standard deviation\r\n",
        "s = np.random.normal(mu, sigma, 1000)\r\n",
        "count, bins, ignored = plt.hist(s, 30, density=True)\r\n",
        "plt.plot(bins, 1/(sigma * np.sqrt(2 * np.pi)) *\r\n",
        "               np.exp( - (bins - mu)**2 / (2 * sigma**2) ),\r\n",
        "         linewidth=2, color='r')\r\n",
        "plt.show()"
      ],
      "execution_count": 15,
      "outputs": [
        {
          "output_type": "display_data",
          "data": {
            "image/png": "[encoded data removed]",
            "text/plain": [
              "<Figure size 432x288 with 1 Axes>"
            ]
          },
          "metadata": {
            "tags": []
          }
        }
      ]
    },
    {
      "cell_type": "markdown",
      "metadata": {
        "id": "IEaOh6xz7Wee"
      },
      "source": [
        "# Price inside and outside the london"
      ]
    },
    {
      "cell_type": "code",
      "metadata": {
        "id": "q0u9fdMI7fmP"
      },
      "source": [
        "#price inside and outside the london\r\n",
        "## Getting prices for Houses in London and outside London\r\n",
        "in_london = []\r\n",
        "out_london = []\r\n",
        "\r\n",
        "locations = train['DERBYSHIRE']\r\n",
        "for i in range(len(locations)) :\r\n",
        "    if 'LONDON' in locations[i]:\r\n",
        "        in_london.append(train['52000'][i])\r\n",
        "    else :\r\n",
        "        out_london.append(train['52000'][i])"
      ],
      "execution_count": 9,
      "outputs": []
    },
    {
      "cell_type": "code",
      "metadata": {
        "colab": {
          "base_uri": "https://localhost:8080/",
          "height": 299
        },
        "id": "aQii5vj08iLy",
        "outputId": "b04162fd-6cc8-43c4-b0ee-b59b29726d30"
      },
      "source": [
        "## Histogram of price distribution in London\r\n",
        "plt.style.use('ggplot')\r\n",
        "plt.hist(in_london, bins = 30, log = True)\r\n",
        "plt.xlabel('House Prices')\r\n",
        "plt.ylabel('No. of Houses')\r\n",
        "plt.title('Histogram of price distribution in London')\r\n",
        "plt.show()\r\n"
      ],
      "execution_count": 10,
      "outputs": [
        {
          "output_type": "display_data",
          "data": {
            "image/png": "[encoded data removed]",
            "text/plain": [
              "<Figure size 432x288 with 1 Axes>"
            ]
          },
          "metadata": {
            "tags": []
          }
        }
      ]
    },
    {
      "cell_type": "code",
      "metadata": {
        "colab": {
          "base_uri": "https://localhost:8080/",
          "height": 299
        },
        "id": "BB4D8YRF8khs",
        "outputId": "e34de968-d37a-4d1e-ecbd-b13764714970"
      },
      "source": [
        "## Histogram of price distribution outside london\r\n",
        "plt.hist(out_london, bins = 30, log = True)\r\n",
        "plt.xlabel('House Prices')\r\n",
        "plt.ylabel('No. of Houses')\r\n",
        "plt.title('Histogram of price distribution outside london')\r\n",
        "plt.show()"
      ],
      "execution_count": 11,
      "outputs": [
        {
          "output_type": "display_data",
          "data": {
            "image/png": "[encoded data removed]",
            "text/plain": [
              "<Figure size 432x288 with 1 Axes>"
            ]
          },
          "metadata": {
            "tags": []
          }
        }
      ]
    },
    {
      "cell_type": "markdown",
      "metadata": {
        "id": "40XHZhF98yx5"
      },
      "source": [
        "# Plot of price per year\r\n"
      ]
    },
    {
      "cell_type": "code",
      "metadata": {
        "colab": {
          "base_uri": "https://localhost:8080/",
          "height": 673
        },
        "id": "nGJIL-VG82ll",
        "outputId": "1465141f-7fab-4561-c16a-452e8a02b0b8"
      },
      "source": [
        "## Plot of price per year\r\n",
        "times = train.iloc[:, 2]\r\n",
        "prices=train.iloc[:,1]\r\n",
        "years = {}\r\n",
        "for i in range(len(times)):\r\n",
        "    year = int(times[i][0 : 4])\r\n",
        "    if year in years.keys() :\r\n",
        "        years[year][0] += prices[i]\r\n",
        "        years[year][1] += 1\r\n",
        "    else:\r\n",
        "        Sum = prices[i]\r\n",
        "        Count = 1\r\n",
        "        years[year] = [Sum, Count]\r\n",
        "        \r\n",
        "\r\n",
        "year_list = []\r\n",
        "avg_price = []\r\n",
        "\r\n",
        "for key in sorted(years) :\r\n",
        "    print(key, years[key][0] / years[key][1])\r\n",
        "    year_list.append(key)\r\n",
        "    avg_price.append(years[key][0] // years[key][1])\r\n",
        "    \r\n",
        "plt.plot(year_list, avg_price)\r\n",
        "plt.xlabel('Year')\r\n",
        "plt.ylabel('Average house price')\r\n",
        "plt.title('Year vs Average House Price')\r\n",
        "plt.show()"
      ],
      "execution_count": 13,
      "outputs": [
        {
          "output_type": "stream",
          "text": [
            "1995 68598.00781881908\n",
            "1996 73166.26066666667\n",
            "1997 77312.5258340114\n",
            "1998 86292.72408906883\n",
            "1999 95750.0684200846\n",
            "2000 108670.09838895281\n",
            "2001 118469.0918814659\n",
            "2002 138073.43356418103\n",
            "2003 153495.8707952389\n",
            "2004 179574.2139294927\n",
            "2005 196889.11458333334\n",
            "2006 203369.58488647916\n",
            "2007 217002.66481706258\n",
            "2008 214767.53302961276\n",
            "2009 213933.69204271442\n",
            "2010 231462.19457735246\n",
            "2011 237038.55021124473\n",
            "2012 237101.6747311828\n",
            "2013 270223.8266561927\n",
            "2014 286850.15910614526\n",
            "2015 304840.865747944\n",
            "2016 290684.3399339934\n"
          ],
          "name": "stdout"
        },
        {
          "output_type": "display_data",
          "data": {
            "image/png": "[encoded data removed]",
            "text/plain": [
              "<Figure size 432x288 with 1 Axes>"
            ]
          },
          "metadata": {
            "tags": []
          }
        }
      ]
    },
    {
      "cell_type": "markdown",
      "metadata": {
        "id": "Y_dN1ClYCw1-"
      },
      "source": [
        "# Probablistic model Section 3 A"
      ]
    },
    {
      "cell_type": "code",
      "metadata": {
        "id": "lY9ieHN_DXPO"
      },
      "source": [
        "def success(p_sucess):\r\n",
        "  return np.random.rand() < p_sucess"
      ],
      "execution_count": 16,
      "outputs": []
    },
    {
      "cell_type": "code",
      "metadata": {
        "id": "v7lgbcqk9AIO",
        "colab": {
          "base_uri": "https://localhost:8080/"
        },
        "outputId": "168691af-745b-431a-8c35-939b05c581a5"
      },
      "source": [
        "s = 0;\r\n",
        "t = 1000;\r\n",
        "for i in range(t):\r\n",
        "  if(success(0.3)):\r\n",
        "    s += 1\r\n",
        "print(s / t)"
      ],
      "execution_count": 18,
      "outputs": [
        {
          "output_type": "stream",
          "text": [
            "0.332\n"
          ],
          "name": "stdout"
        }
      ]
    },
    {
      "cell_type": "code",
      "metadata": {
        "id": "i3QvyrG5GNi6"
      },
      "source": [
        "def exam_score(p_correct, n_instances):\r\n",
        "  correct = 0;\r\n",
        "  for _ in range(n_instances):\r\n",
        "    correct += success(p_correct)\r\n",
        "  return correct"
      ],
      "execution_count": 19,
      "outputs": []
    },
    {
      "cell_type": "code",
      "metadata": {
        "id": "A05_yd7PGRnt"
      },
      "source": [
        "no_of_correct_answers = []\r\n",
        "for _ in range(100000):\r\n",
        "  no_of_correct_answers.append(exam_score(0.8, 20))"
      ],
      "execution_count": 20,
      "outputs": []
    },
    {
      "cell_type": "code",
      "metadata": {
        "colab": {
          "base_uri": "https://localhost:8080/",
          "height": 299
        },
        "id": "kv7KfvtVGVK1",
        "outputId": "9ff85122-8f81-4613-8660-bbb831a57909"
      },
      "source": [
        "plt.hist(no_of_correct_answers)\r\n",
        "plt.xlabel('correct answers')\r\n",
        "plt.ylabel('frequency')"
      ],
      "execution_count": 21,
      "outputs": [
        {
          "output_type": "execute_result",
          "data": {
            "text/plain": [
              "Text(0, 0.5, 'frequency')"
            ]
          },
          "metadata": {
            "tags": []
          },
          "execution_count": 21
        },
        {
          "output_type": "display_data",
          "data": {
            "image/png": "[encoded data removed]",
            "text/plain": [
              "<Figure size 432x288 with 1 Axes>"
            ]
          },
          "metadata": {
            "tags": [],
            "needs_background": "light"
          }
        }
      ]
    },
    {
      "cell_type": "markdown",
      "metadata": {
        "id": "t8YjsUaUGczk"
      },
      "source": [
        "# Section 3B"
      ]
    },
    {
      "cell_type": "code",
      "metadata": {
        "id": "xX__fiBqGWyo"
      },
      "source": [
        "def number_of_attempts(p_pass):\r\n",
        "  count = 1;\r\n",
        "  while(not success(p_pass)):\r\n",
        "    count += 1\r\n",
        "  return count "
      ],
      "execution_count": 22,
      "outputs": []
    },
    {
      "cell_type": "code",
      "metadata": {
        "colab": {
          "base_uri": "https://localhost:8080/",
          "height": 299
        },
        "id": "jgayqdohGnwP",
        "outputId": "014263aa-4688-4cf3-a25e-493f137bdce4"
      },
      "source": [
        "no_of_attempts = []\r\n",
        "for _ in range(10000):\r\n",
        "  no_of_attempts.append(number_of_attempts(0.3))\r\n",
        "plt.hist(no_of_attempts)\r\n",
        "plt.xlabel('attempts')\r\n",
        "plt.ylabel('frequency')"
      ],
      "execution_count": 23,
      "outputs": [
        {
          "output_type": "execute_result",
          "data": {
            "text/plain": [
              "Text(0, 0.5, 'frequency')"
            ]
          },
          "metadata": {
            "tags": []
          },
          "execution_count": 23
        },
        {
          "output_type": "display_data",
          "data": {
            "image/png": "[encoded data removed]",
            "text/plain": [
              "<Figure size 432x288 with 1 Axes>"
            ]
          },
          "metadata": {
            "tags": [],
            "needs_background": "light"
          }
        }
      ]
    },
    {
      "cell_type": "markdown",
      "metadata": {
        "id": "CWvRBDVVGq7M"
      },
      "source": [
        "# Section 3C"
      ]
    },
    {
      "cell_type": "code",
      "metadata": {
        "id": "KYnKFZebGwGN"
      },
      "source": [
        "def generate():\r\n",
        "  count_of_males = 0\r\n",
        "  count_of_females = 0\r\n",
        "  gender = []\r\n",
        "  for _ in range(50):\r\n",
        "    gender.append(success(0.4))\r\n",
        "    if(gender[-1]):\r\n",
        "      count_of_males += 1\r\n",
        "    else:\r\n",
        "      count_of_females += 1\r\n",
        "  return count_of_males, count_of_females,  gender"
      ],
      "execution_count": 24,
      "outputs": []
    },
    {
      "cell_type": "code",
      "metadata": {
        "id": "3AF7sp5kG4l5"
      },
      "source": [
        "def generate_data(mean, standard_deviation):\r\n",
        "  return np.random.normal(mean, standard_deviation)"
      ],
      "execution_count": 25,
      "outputs": []
    },
    {
      "cell_type": "code",
      "metadata": {
        "id": "bFhxGO2sG-U9"
      },
      "source": [
        "c_males, c_females, gender = generate();\r\n",
        "height = []\r\n",
        "weight = []\r\n",
        "height_males = []\r\n",
        "weight_males = []\r\n",
        "height_females = []\r\n",
        "weight_females = []\r\n",
        "\r\n",
        "for x in gender:\r\n",
        "  if(x == True):\r\n",
        "    height.append(generate_data(140, 15))\r\n",
        "    weight.append(generate_data(90, 10))\r\n",
        "    height_males.append(height[-1])\r\n",
        "    weight_males.append(weight[-1])\r\n",
        "  else:\r\n",
        "    height.append(generate_data(195, 10))\r\n",
        "    weight.append(generate_data(60, 5))\r\n",
        "    height_females.append(height[-1])\r\n",
        "    weight_females.append(weight[-1])"
      ],
      "execution_count": 26,
      "outputs": []
    },
    {
      "cell_type": "code",
      "metadata": {
        "colab": {
          "base_uri": "https://localhost:8080/",
          "height": 316
        },
        "id": "OvmrFLuvG_5P",
        "outputId": "f26a4f11-fbc1-485b-b51a-6b2c3aef3fc1"
      },
      "source": [
        "plt.scatter(height_males, weight_males, color = 'red', label = 'males')\r\n",
        "plt.scatter(height_females, weight_females, color='blue', label = 'females')\r\n",
        "plt.xlabel('height')\r\n",
        "plt.ylabel('weight')\r\n",
        "plt.legend()\r\n",
        "plt.title('Height-weight graph with gender variation')"
      ],
      "execution_count": 27,
      "outputs": [
        {
          "output_type": "execute_result",
          "data": {
            "text/plain": [
              "Text(0.5, 1.0, 'Height-weight graph with gender variation')"
            ]
          },
          "metadata": {
            "tags": []
          },
          "execution_count": 27
        },
        {
          "output_type": "display_data",
          "data": {
            "image/png": "[encoded data removed]",
            "text/plain": [
              "<Figure size 432x288 with 1 Axes>"
            ]
          },
          "metadata": {
            "tags": [],
            "needs_background": "light"
          }
        }
      ]
    }
  ]
}